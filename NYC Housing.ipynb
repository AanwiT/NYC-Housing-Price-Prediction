{
 "cells": [
  {
   "cell_type": "code",
   "execution_count": 4,
   "id": "cde6fdfa-bc3d-4c3a-9dd2-25b5b526ccc0",
   "metadata": {},
   "outputs": [],
   "source": [
    "import pandas as pd\n",
    "import numpy as np\n",
    "from matplotlib import pyplot as plt\n",
    "%matplotlib inline\n",
    "import matplotlib\n",
    "matplotlib.rcParams[\"figure.figsize\"]=(20,10)"
   ]
  },
  {
   "cell_type": "code",
   "execution_count": 5,
   "id": "795bea0f-4126-41c5-9049-fb258ce0c1b5",
   "metadata": {},
   "outputs": [
    {
     "data": {
      "text/html": [
       "<div>\n",
       "<style scoped>\n",
       "    .dataframe tbody tr th:only-of-type {\n",
       "        vertical-align: middle;\n",
       "    }\n",
       "\n",
       "    .dataframe tbody tr th {\n",
       "        vertical-align: top;\n",
       "    }\n",
       "\n",
       "    .dataframe thead th {\n",
       "        text-align: right;\n",
       "    }\n",
       "</style>\n",
       "<table border=\"1\" class=\"dataframe\">\n",
       "  <thead>\n",
       "    <tr style=\"text-align: right;\">\n",
       "      <th></th>\n",
       "      <th>type</th>\n",
       "      <th>location</th>\n",
       "      <th>bed</th>\n",
       "      <th>address</th>\n",
       "      <th>total_sqft</th>\n",
       "      <th>bath</th>\n",
       "      <th>price</th>\n",
       "    </tr>\n",
       "  </thead>\n",
       "  <tbody>\n",
       "    <tr>\n",
       "      <th>0</th>\n",
       "      <td>Condo for sale</td>\n",
       "      <td>Manhattan</td>\n",
       "      <td>2</td>\n",
       "      <td>2 E 55th St Unit 803</td>\n",
       "      <td>1400</td>\n",
       "      <td>2.000000</td>\n",
       "      <td>315000</td>\n",
       "    </tr>\n",
       "    <tr>\n",
       "      <th>1</th>\n",
       "      <td>Condo for sale</td>\n",
       "      <td>New York County</td>\n",
       "      <td>7</td>\n",
       "      <td>Central Park Tower Penthouse-217 W 57th New Yo...</td>\n",
       "      <td>17545</td>\n",
       "      <td>10.000000</td>\n",
       "      <td>195000000</td>\n",
       "    </tr>\n",
       "    <tr>\n",
       "      <th>2</th>\n",
       "      <td>House for sale</td>\n",
       "      <td>Richmond County</td>\n",
       "      <td>4</td>\n",
       "      <td>620 Sinclair Ave</td>\n",
       "      <td>2015</td>\n",
       "      <td>2.000000</td>\n",
       "      <td>260000</td>\n",
       "    </tr>\n",
       "    <tr>\n",
       "      <th>3</th>\n",
       "      <td>Condo for sale</td>\n",
       "      <td>New York County</td>\n",
       "      <td>3</td>\n",
       "      <td>2 E 55th St Unit 908W33</td>\n",
       "      <td>445</td>\n",
       "      <td>1.000000</td>\n",
       "      <td>69000</td>\n",
       "    </tr>\n",
       "    <tr>\n",
       "      <th>4</th>\n",
       "      <td>Townhouse for sale</td>\n",
       "      <td>New York County</td>\n",
       "      <td>7</td>\n",
       "      <td>5 E 64th St</td>\n",
       "      <td>14175-15000</td>\n",
       "      <td>2.373861</td>\n",
       "      <td>55000000</td>\n",
       "    </tr>\n",
       "  </tbody>\n",
       "</table>\n",
       "</div>"
      ],
      "text/plain": [
       "                 type         location bed  \\\n",
       "0      Condo for sale        Manhattan   2   \n",
       "1      Condo for sale  New York County   7   \n",
       "2      House for sale  Richmond County   4   \n",
       "3      Condo for sale  New York County   3   \n",
       "4  Townhouse for sale  New York County   7   \n",
       "\n",
       "                                             address   total_sqft       bath  \\\n",
       "0                               2 E 55th St Unit 803         1400   2.000000   \n",
       "1  Central Park Tower Penthouse-217 W 57th New Yo...        17545  10.000000   \n",
       "2                                   620 Sinclair Ave         2015   2.000000   \n",
       "3                            2 E 55th St Unit 908W33          445   1.000000   \n",
       "4                                        5 E 64th St  14175-15000   2.373861   \n",
       "\n",
       "       price  \n",
       "0     315000  \n",
       "1  195000000  \n",
       "2     260000  \n",
       "3      69000  \n",
       "4   55000000  "
      ]
     },
     "execution_count": 5,
     "metadata": {},
     "output_type": "execute_result"
    }
   ],
   "source": [
    "df1=pd.read_csv(\"NYC Housing.csv\")\n",
    "df1.head()"
   ]
  },
  {
   "cell_type": "code",
   "execution_count": 6,
   "id": "33c7e80c-ff46-4a60-9e29-a5d354afd3ad",
   "metadata": {},
   "outputs": [
    {
     "data": {
      "text/plain": [
       "(4801, 7)"
      ]
     },
     "execution_count": 6,
     "metadata": {},
     "output_type": "execute_result"
    }
   ],
   "source": [
    "df1.shape"
   ]
  },
  {
   "cell_type": "code",
   "execution_count": 7,
   "id": "1fa40ae5-1af9-4d8f-b925-84f998fc51f4",
   "metadata": {},
   "outputs": [
    {
     "data": {
      "text/plain": [
       "type\n",
       "Co-op for sale                1450\n",
       "Coming Soon                      2\n",
       "Condo for sale                 891\n",
       "Condop for sale                  5\n",
       "Contingent                      88\n",
       "For sale                        20\n",
       "Foreclosure                     14\n",
       "House for sale                1012\n",
       "Land for sale                   49\n",
       "Mobile house for sale            1\n",
       "Multi-family home for sale     727\n",
       "Pending                        243\n",
       "Townhouse for sale             299\n",
       "Name: type, dtype: int64"
      ]
     },
     "execution_count": 7,
     "metadata": {},
     "output_type": "execute_result"
    }
   ],
   "source": [
    "df1.groupby('type')['type'].agg('count')"
   ]
  },
  {
   "cell_type": "code",
   "execution_count": 8,
   "id": "159d77af-c90b-4dce-8614-87ce908a794a",
   "metadata": {},
   "outputs": [
    {
     "data": {
      "text/plain": [
       "(4801, 5)"
      ]
     },
     "execution_count": 8,
     "metadata": {},
     "output_type": "execute_result"
    }
   ],
   "source": [
    "df2 = df1.drop(['type','address'],axis='columns')\n",
    "df2.shape"
   ]
  },
  {
   "cell_type": "code",
   "execution_count": 9,
   "id": "e8cd89cb-af46-4a24-b5ef-daf6aa9a9d39",
   "metadata": {},
   "outputs": [
    {
     "data": {
      "text/html": [
       "<div>\n",
       "<style scoped>\n",
       "    .dataframe tbody tr th:only-of-type {\n",
       "        vertical-align: middle;\n",
       "    }\n",
       "\n",
       "    .dataframe tbody tr th {\n",
       "        vertical-align: top;\n",
       "    }\n",
       "\n",
       "    .dataframe thead th {\n",
       "        text-align: right;\n",
       "    }\n",
       "</style>\n",
       "<table border=\"1\" class=\"dataframe\">\n",
       "  <thead>\n",
       "    <tr style=\"text-align: right;\">\n",
       "      <th></th>\n",
       "      <th>location</th>\n",
       "      <th>bed</th>\n",
       "      <th>total_sqft</th>\n",
       "      <th>bath</th>\n",
       "      <th>price</th>\n",
       "    </tr>\n",
       "  </thead>\n",
       "  <tbody>\n",
       "    <tr>\n",
       "      <th>0</th>\n",
       "      <td>Manhattan</td>\n",
       "      <td>2</td>\n",
       "      <td>1400</td>\n",
       "      <td>2.000000</td>\n",
       "      <td>315000</td>\n",
       "    </tr>\n",
       "    <tr>\n",
       "      <th>1</th>\n",
       "      <td>New York County</td>\n",
       "      <td>7</td>\n",
       "      <td>17545</td>\n",
       "      <td>10.000000</td>\n",
       "      <td>195000000</td>\n",
       "    </tr>\n",
       "    <tr>\n",
       "      <th>2</th>\n",
       "      <td>Richmond County</td>\n",
       "      <td>4</td>\n",
       "      <td>2015</td>\n",
       "      <td>2.000000</td>\n",
       "      <td>260000</td>\n",
       "    </tr>\n",
       "    <tr>\n",
       "      <th>3</th>\n",
       "      <td>New York County</td>\n",
       "      <td>3</td>\n",
       "      <td>445</td>\n",
       "      <td>1.000000</td>\n",
       "      <td>69000</td>\n",
       "    </tr>\n",
       "    <tr>\n",
       "      <th>4</th>\n",
       "      <td>New York County</td>\n",
       "      <td>7</td>\n",
       "      <td>14175-15000</td>\n",
       "      <td>2.373861</td>\n",
       "      <td>55000000</td>\n",
       "    </tr>\n",
       "  </tbody>\n",
       "</table>\n",
       "</div>"
      ],
      "text/plain": [
       "          location bed   total_sqft       bath      price\n",
       "0        Manhattan   2         1400   2.000000     315000\n",
       "1  New York County   7        17545  10.000000  195000000\n",
       "2  Richmond County   4         2015   2.000000     260000\n",
       "3  New York County   3          445   1.000000      69000\n",
       "4  New York County   7  14175-15000   2.373861   55000000"
      ]
     },
     "execution_count": 9,
     "metadata": {},
     "output_type": "execute_result"
    }
   ],
   "source": [
    "df2.head()"
   ]
  },
  {
   "cell_type": "code",
   "execution_count": 10,
   "id": "8a18b63a-4ecc-462b-83c1-32d917b42998",
   "metadata": {},
   "outputs": [
    {
     "data": {
      "text/plain": [
       "location      0\n",
       "bed           0\n",
       "total_sqft    0\n",
       "bath          0\n",
       "price         0\n",
       "dtype: int64"
      ]
     },
     "execution_count": 10,
     "metadata": {},
     "output_type": "execute_result"
    }
   ],
   "source": [
    "df2.isnull().sum()"
   ]
  },
  {
   "cell_type": "code",
   "execution_count": 11,
   "id": "a7c8e495-d3be-4015-bb44-8ad28cfb34e8",
   "metadata": {},
   "outputs": [
    {
     "data": {
      "text/plain": [
       "array(['2', '7', '4', '3', '5 BHK', '8', '1', '2 Bedroom', '6', '12',\n",
       "       '10', '5', '11', '4 Beds', '9', '15', '14', '16', '20', '35', '24',\n",
       "       '50', '13', '32', '36', '42', '40', '30', '19', '18'], dtype=object)"
      ]
     },
     "execution_count": 11,
     "metadata": {},
     "output_type": "execute_result"
    }
   ],
   "source": [
    "df2['bed'].unique()"
   ]
  },
  {
   "cell_type": "code",
   "execution_count": 12,
   "id": "1a9f0598-6b85-4481-babc-f0330d3177bd",
   "metadata": {},
   "outputs": [
    {
     "data": {
      "text/plain": [
       "array([ 2,  7,  4,  3,  5,  8,  1,  6, 12, 10, 11,  9, 15, 14, 16, 20, 35,\n",
       "       24, 50, 13, 32, 36, 42, 40, 30, 19, 18], dtype=int64)"
      ]
     },
     "execution_count": 12,
     "metadata": {},
     "output_type": "execute_result"
    }
   ],
   "source": [
    "df2['bhk'] = df2['bed'].apply(lambda x: int(x.split(' ')[0]))\n",
    "df2.bhk.unique()"
   ]
  },
  {
   "cell_type": "code",
   "execution_count": 17,
   "id": "d2246f5f-3d62-4d30-b7df-e57be55e6633",
   "metadata": {},
   "outputs": [
    {
     "data": {
      "text/plain": [
       "array(['1400', '17545', '2015', ..., '7854', '903', '655'], dtype=object)"
      ]
     },
     "execution_count": 17,
     "metadata": {},
     "output_type": "execute_result"
    }
   ],
   "source": [
    "df2['total_sqft'].unique()"
   ]
  },
  {
   "cell_type": "code",
   "execution_count": 23,
   "id": "87a95499-d14f-46fc-95c8-69f2a0ac4701",
   "metadata": {},
   "outputs": [],
   "source": [
    "def is_float(x):\n",
    "    try:\n",
    "        float(x)\n",
    "    except:\n",
    "        return False\n",
    "    return True"
   ]
  },
  {
   "cell_type": "code",
   "execution_count": 25,
   "id": "df590b59-66f1-4460-ac7c-044e56e98b45",
   "metadata": {},
   "outputs": [
    {
     "data": {
      "text/html": [
       "<div>\n",
       "<style scoped>\n",
       "    .dataframe tbody tr th:only-of-type {\n",
       "        vertical-align: middle;\n",
       "    }\n",
       "\n",
       "    .dataframe tbody tr th {\n",
       "        vertical-align: top;\n",
       "    }\n",
       "\n",
       "    .dataframe thead th {\n",
       "        text-align: right;\n",
       "    }\n",
       "</style>\n",
       "<table border=\"1\" class=\"dataframe\">\n",
       "  <thead>\n",
       "    <tr style=\"text-align: right;\">\n",
       "      <th></th>\n",
       "      <th>location</th>\n",
       "      <th>bed</th>\n",
       "      <th>total_sqft</th>\n",
       "      <th>bath</th>\n",
       "      <th>price</th>\n",
       "      <th>bhk</th>\n",
       "    </tr>\n",
       "  </thead>\n",
       "  <tbody>\n",
       "    <tr>\n",
       "      <th>4</th>\n",
       "      <td>New York County</td>\n",
       "      <td>7</td>\n",
       "      <td>14175-15000</td>\n",
       "      <td>2.373861</td>\n",
       "      <td>55000000</td>\n",
       "      <td>7</td>\n",
       "    </tr>\n",
       "    <tr>\n",
       "      <th>54</th>\n",
       "      <td>Manhattan</td>\n",
       "      <td>2</td>\n",
       "      <td>1300-1350</td>\n",
       "      <td>2.000000</td>\n",
       "      <td>3250000</td>\n",
       "      <td>2</td>\n",
       "    </tr>\n",
       "  </tbody>\n",
       "</table>\n",
       "</div>"
      ],
      "text/plain": [
       "           location bed   total_sqft      bath     price  bhk\n",
       "4   New York County   7  14175-15000  2.373861  55000000    7\n",
       "54        Manhattan   2    1300-1350  2.000000   3250000    2"
      ]
     },
     "execution_count": 25,
     "metadata": {},
     "output_type": "execute_result"
    }
   ],
   "source": [
    "df2[~df2['total_sqft'].apply(is_float)].head(10)"
   ]
  },
  {
   "cell_type": "code",
   "execution_count": 27,
   "id": "40b92018-34f1-4b7b-bc83-410e73649d97",
   "metadata": {},
   "outputs": [],
   "source": [
    "def convert_sqft_to_num(x):\n",
    "    tokens = x.split('-')\n",
    "    if len(tokens) == 2:\n",
    "        return (float(tokens[0])+float(tokens[1]))/2\n",
    "    try:\n",
    "        return float(x)\n",
    "    except:\n",
    "        return None   "
   ]
  },
  {
   "cell_type": "code",
   "execution_count": 30,
   "id": "517ce63b-fd3e-401f-9af7-9d22040f37d3",
   "metadata": {},
   "outputs": [
    {
     "data": {
      "text/html": [
       "<div>\n",
       "<style scoped>\n",
       "    .dataframe tbody tr th:only-of-type {\n",
       "        vertical-align: middle;\n",
       "    }\n",
       "\n",
       "    .dataframe tbody tr th {\n",
       "        vertical-align: top;\n",
       "    }\n",
       "\n",
       "    .dataframe thead th {\n",
       "        text-align: right;\n",
       "    }\n",
       "</style>\n",
       "<table border=\"1\" class=\"dataframe\">\n",
       "  <thead>\n",
       "    <tr style=\"text-align: right;\">\n",
       "      <th></th>\n",
       "      <th>location</th>\n",
       "      <th>bed</th>\n",
       "      <th>total_sqft</th>\n",
       "      <th>bath</th>\n",
       "      <th>price</th>\n",
       "      <th>bhk</th>\n",
       "    </tr>\n",
       "  </thead>\n",
       "  <tbody>\n",
       "    <tr>\n",
       "      <th>0</th>\n",
       "      <td>Manhattan</td>\n",
       "      <td>2</td>\n",
       "      <td>1400.0</td>\n",
       "      <td>2.000000</td>\n",
       "      <td>315000</td>\n",
       "      <td>2</td>\n",
       "    </tr>\n",
       "    <tr>\n",
       "      <th>1</th>\n",
       "      <td>New York County</td>\n",
       "      <td>7</td>\n",
       "      <td>17545.0</td>\n",
       "      <td>10.000000</td>\n",
       "      <td>195000000</td>\n",
       "      <td>7</td>\n",
       "    </tr>\n",
       "    <tr>\n",
       "      <th>2</th>\n",
       "      <td>Richmond County</td>\n",
       "      <td>4</td>\n",
       "      <td>2015.0</td>\n",
       "      <td>2.000000</td>\n",
       "      <td>260000</td>\n",
       "      <td>4</td>\n",
       "    </tr>\n",
       "    <tr>\n",
       "      <th>3</th>\n",
       "      <td>New York County</td>\n",
       "      <td>3</td>\n",
       "      <td>445.0</td>\n",
       "      <td>1.000000</td>\n",
       "      <td>69000</td>\n",
       "      <td>3</td>\n",
       "    </tr>\n",
       "    <tr>\n",
       "      <th>4</th>\n",
       "      <td>New York County</td>\n",
       "      <td>7</td>\n",
       "      <td>14587.5</td>\n",
       "      <td>2.373861</td>\n",
       "      <td>55000000</td>\n",
       "      <td>7</td>\n",
       "    </tr>\n",
       "  </tbody>\n",
       "</table>\n",
       "</div>"
      ],
      "text/plain": [
       "          location bed  total_sqft       bath      price  bhk\n",
       "0        Manhattan   2      1400.0   2.000000     315000    2\n",
       "1  New York County   7     17545.0  10.000000  195000000    7\n",
       "2  Richmond County   4      2015.0   2.000000     260000    4\n",
       "3  New York County   3       445.0   1.000000      69000    3\n",
       "4  New York County   7     14587.5   2.373861   55000000    7"
      ]
     },
     "execution_count": 30,
     "metadata": {},
     "output_type": "execute_result"
    }
   ],
   "source": [
    "df3 = df2.copy()\n",
    "df3.total_sqft = df3.total_sqft.apply(convert_sqft_to_num)\n",
    "df3 = df3[df3.total_sqft.notnull()]\n",
    "df3.head()"
   ]
  },
  {
   "cell_type": "code",
   "execution_count": 32,
   "id": "35e9c713-2470-4001-9f26-137847543c14",
   "metadata": {},
   "outputs": [
    {
     "data": {
      "text/html": [
       "<div>\n",
       "<style scoped>\n",
       "    .dataframe tbody tr th:only-of-type {\n",
       "        vertical-align: middle;\n",
       "    }\n",
       "\n",
       "    .dataframe tbody tr th {\n",
       "        vertical-align: top;\n",
       "    }\n",
       "\n",
       "    .dataframe thead th {\n",
       "        text-align: right;\n",
       "    }\n",
       "</style>\n",
       "<table border=\"1\" class=\"dataframe\">\n",
       "  <thead>\n",
       "    <tr style=\"text-align: right;\">\n",
       "      <th></th>\n",
       "      <th>location</th>\n",
       "      <th>bed</th>\n",
       "      <th>total_sqft</th>\n",
       "      <th>bath</th>\n",
       "      <th>price</th>\n",
       "      <th>bhk</th>\n",
       "      <th>price_per_sqft</th>\n",
       "    </tr>\n",
       "  </thead>\n",
       "  <tbody>\n",
       "    <tr>\n",
       "      <th>0</th>\n",
       "      <td>Manhattan</td>\n",
       "      <td>2</td>\n",
       "      <td>1400.0</td>\n",
       "      <td>2.000000</td>\n",
       "      <td>315000</td>\n",
       "      <td>2</td>\n",
       "      <td>225.000000</td>\n",
       "    </tr>\n",
       "    <tr>\n",
       "      <th>1</th>\n",
       "      <td>New York County</td>\n",
       "      <td>7</td>\n",
       "      <td>17545.0</td>\n",
       "      <td>10.000000</td>\n",
       "      <td>195000000</td>\n",
       "      <td>7</td>\n",
       "      <td>11114.277572</td>\n",
       "    </tr>\n",
       "    <tr>\n",
       "      <th>2</th>\n",
       "      <td>Richmond County</td>\n",
       "      <td>4</td>\n",
       "      <td>2015.0</td>\n",
       "      <td>2.000000</td>\n",
       "      <td>260000</td>\n",
       "      <td>4</td>\n",
       "      <td>129.032258</td>\n",
       "    </tr>\n",
       "    <tr>\n",
       "      <th>3</th>\n",
       "      <td>New York County</td>\n",
       "      <td>3</td>\n",
       "      <td>445.0</td>\n",
       "      <td>1.000000</td>\n",
       "      <td>69000</td>\n",
       "      <td>3</td>\n",
       "      <td>155.056180</td>\n",
       "    </tr>\n",
       "    <tr>\n",
       "      <th>4</th>\n",
       "      <td>New York County</td>\n",
       "      <td>7</td>\n",
       "      <td>14587.5</td>\n",
       "      <td>2.373861</td>\n",
       "      <td>55000000</td>\n",
       "      <td>7</td>\n",
       "      <td>3770.351328</td>\n",
       "    </tr>\n",
       "  </tbody>\n",
       "</table>\n",
       "</div>"
      ],
      "text/plain": [
       "          location bed  total_sqft       bath      price  bhk  price_per_sqft\n",
       "0        Manhattan   2      1400.0   2.000000     315000    2      225.000000\n",
       "1  New York County   7     17545.0  10.000000  195000000    7    11114.277572\n",
       "2  Richmond County   4      2015.0   2.000000     260000    4      129.032258\n",
       "3  New York County   3       445.0   1.000000      69000    3      155.056180\n",
       "4  New York County   7     14587.5   2.373861   55000000    7     3770.351328"
      ]
     },
     "execution_count": 32,
     "metadata": {},
     "output_type": "execute_result"
    }
   ],
   "source": [
    "df4 = df3.copy()\n",
    "df4['price_per_sqft'] = df4['price']/df4['total_sqft']\n",
    "df4.head()"
   ]
  },
  {
   "cell_type": "code",
   "execution_count": 34,
   "id": "74510e70-25a4-471e-ab57-c131fe083615",
   "metadata": {},
   "outputs": [],
   "source": [
    "df4['price'] = df4['price'].apply(lambda x: round(x, 2))\n",
    "df4['price_per_sqft'] = df4['price_per_sqft'].apply(lambda x: round(x, 2))\n",
    "df4['bath'] = df4['bath'].round(0).astype(int)"
   ]
  },
  {
   "cell_type": "code",
   "execution_count": 36,
   "id": "96f9126b-3a08-4d00-a393-f1a29e6e0fbe",
   "metadata": {},
   "outputs": [
    {
     "data": {
      "text/html": [
       "<div>\n",
       "<style scoped>\n",
       "    .dataframe tbody tr th:only-of-type {\n",
       "        vertical-align: middle;\n",
       "    }\n",
       "\n",
       "    .dataframe tbody tr th {\n",
       "        vertical-align: top;\n",
       "    }\n",
       "\n",
       "    .dataframe thead th {\n",
       "        text-align: right;\n",
       "    }\n",
       "</style>\n",
       "<table border=\"1\" class=\"dataframe\">\n",
       "  <thead>\n",
       "    <tr style=\"text-align: right;\">\n",
       "      <th></th>\n",
       "      <th>location</th>\n",
       "      <th>bed</th>\n",
       "      <th>total_sqft</th>\n",
       "      <th>bath</th>\n",
       "      <th>price</th>\n",
       "      <th>bhk</th>\n",
       "      <th>price_per_sqft</th>\n",
       "    </tr>\n",
       "  </thead>\n",
       "  <tbody>\n",
       "    <tr>\n",
       "      <th>0</th>\n",
       "      <td>Manhattan</td>\n",
       "      <td>2</td>\n",
       "      <td>1400.0</td>\n",
       "      <td>2</td>\n",
       "      <td>315000</td>\n",
       "      <td>2</td>\n",
       "      <td>225.00</td>\n",
       "    </tr>\n",
       "    <tr>\n",
       "      <th>1</th>\n",
       "      <td>New York County</td>\n",
       "      <td>7</td>\n",
       "      <td>17545.0</td>\n",
       "      <td>10</td>\n",
       "      <td>195000000</td>\n",
       "      <td>7</td>\n",
       "      <td>11114.28</td>\n",
       "    </tr>\n",
       "    <tr>\n",
       "      <th>2</th>\n",
       "      <td>Richmond County</td>\n",
       "      <td>4</td>\n",
       "      <td>2015.0</td>\n",
       "      <td>2</td>\n",
       "      <td>260000</td>\n",
       "      <td>4</td>\n",
       "      <td>129.03</td>\n",
       "    </tr>\n",
       "    <tr>\n",
       "      <th>3</th>\n",
       "      <td>New York County</td>\n",
       "      <td>3</td>\n",
       "      <td>445.0</td>\n",
       "      <td>1</td>\n",
       "      <td>69000</td>\n",
       "      <td>3</td>\n",
       "      <td>155.06</td>\n",
       "    </tr>\n",
       "    <tr>\n",
       "      <th>4</th>\n",
       "      <td>New York County</td>\n",
       "      <td>7</td>\n",
       "      <td>14587.5</td>\n",
       "      <td>2</td>\n",
       "      <td>55000000</td>\n",
       "      <td>7</td>\n",
       "      <td>3770.35</td>\n",
       "    </tr>\n",
       "  </tbody>\n",
       "</table>\n",
       "</div>"
      ],
      "text/plain": [
       "          location bed  total_sqft  bath      price  bhk  price_per_sqft\n",
       "0        Manhattan   2      1400.0     2     315000    2          225.00\n",
       "1  New York County   7     17545.0    10  195000000    7        11114.28\n",
       "2  Richmond County   4      2015.0     2     260000    4          129.03\n",
       "3  New York County   3       445.0     1      69000    3          155.06\n",
       "4  New York County   7     14587.5     2   55000000    7         3770.35"
      ]
     },
     "execution_count": 36,
     "metadata": {},
     "output_type": "execute_result"
    }
   ],
   "source": [
    "df5=df4.copy()\n",
    "df5.head()"
   ]
  },
  {
   "cell_type": "code",
   "execution_count": 38,
   "id": "7651b095-63b8-452c-a8cb-90b58b733f57",
   "metadata": {},
   "outputs": [
    {
     "data": {
      "text/plain": [
       "location\n",
       "New York            1016\n",
       "Kings County         727\n",
       "Queens County        684\n",
       "Queens               555\n",
       "Richmond County      480\n",
       "Brooklyn             464\n",
       "Bronx County         307\n",
       "New York County      286\n",
       "The Bronx            184\n",
       "Staten Island         59\n",
       "Manhattan             21\n",
       "Riverdale              4\n",
       "Flushing               4\n",
       "Coney Island           3\n",
       "East Bronx             1\n",
       "Brooklyn Heights       1\n",
       "Jackson Heights        1\n",
       "Rego Park              1\n",
       "Fort Hamilton          1\n",
       "Dumbo                  1\n",
       "Snyder Avenue          1\n",
       "Name: count, dtype: int64"
      ]
     },
     "execution_count": 38,
     "metadata": {},
     "output_type": "execute_result"
    }
   ],
   "source": [
    "df5.location = df5.location.apply(lambda x: x.strip())\n",
    "location_stats = df5['location'].value_counts(ascending=False)\n",
    "location_stats"
   ]
  },
  {
   "cell_type": "code",
   "execution_count": 40,
   "id": "56203f79-38b2-4bd9-8be8-dbc8cdd31dc8",
   "metadata": {},
   "outputs": [
    {
     "data": {
      "text/plain": [
       "11"
      ]
     },
     "execution_count": 40,
     "metadata": {},
     "output_type": "execute_result"
    }
   ],
   "source": [
    "len(location_stats[location_stats>10])"
   ]
  },
  {
   "cell_type": "code",
   "execution_count": 42,
   "id": "711cd7c3-f514-45f0-9b67-98f1a9ea7499",
   "metadata": {},
   "outputs": [
    {
     "data": {
      "text/plain": [
       "21"
      ]
     },
     "execution_count": 42,
     "metadata": {},
     "output_type": "execute_result"
    }
   ],
   "source": [
    "len(location_stats)"
   ]
  },
  {
   "cell_type": "code",
   "execution_count": 44,
   "id": "1778c6c0-4ccb-4ae9-b20e-803329b4556c",
   "metadata": {},
   "outputs": [
    {
     "data": {
      "text/plain": [
       "10"
      ]
     },
     "execution_count": 44,
     "metadata": {},
     "output_type": "execute_result"
    }
   ],
   "source": [
    "len(location_stats[location_stats<=10])"
   ]
  },
  {
   "cell_type": "code",
   "execution_count": 46,
   "id": "fb1e2be6-eab4-4d9c-90fb-9bb96c5e5c71",
   "metadata": {},
   "outputs": [
    {
     "data": {
      "text/plain": [
       "location\n",
       "Riverdale           4\n",
       "Flushing            4\n",
       "Coney Island        3\n",
       "East Bronx          1\n",
       "Brooklyn Heights    1\n",
       "Jackson Heights     1\n",
       "Rego Park           1\n",
       "Fort Hamilton       1\n",
       "Dumbo               1\n",
       "Snyder Avenue       1\n",
       "Name: count, dtype: int64"
      ]
     },
     "execution_count": 46,
     "metadata": {},
     "output_type": "execute_result"
    }
   ],
   "source": [
    "location_stats_less_than_10 = location_stats[location_stats<=10]\n",
    "location_stats_less_than_10"
   ]
  },
  {
   "cell_type": "code",
   "execution_count": 48,
   "id": "d0bf41bf-2449-46e5-b471-cc78b6abae9b",
   "metadata": {},
   "outputs": [
    {
     "data": {
      "text/plain": [
       "21"
      ]
     },
     "execution_count": 48,
     "metadata": {},
     "output_type": "execute_result"
    }
   ],
   "source": [
    "len(df5.location.unique())"
   ]
  },
  {
   "cell_type": "code",
   "execution_count": 50,
   "id": "830ec000-aecb-44bd-a17d-31ac2c890623",
   "metadata": {},
   "outputs": [],
   "source": [
    "df5['price'] = df5['price'].astype(float).round(2)"
   ]
  },
  {
   "cell_type": "code",
   "execution_count": 52,
   "id": "623f825d-23a8-40cf-9e20-bd65bceb31b0",
   "metadata": {},
   "outputs": [
    {
     "data": {
      "text/html": [
       "<div>\n",
       "<style scoped>\n",
       "    .dataframe tbody tr th:only-of-type {\n",
       "        vertical-align: middle;\n",
       "    }\n",
       "\n",
       "    .dataframe tbody tr th {\n",
       "        vertical-align: top;\n",
       "    }\n",
       "\n",
       "    .dataframe thead th {\n",
       "        text-align: right;\n",
       "    }\n",
       "</style>\n",
       "<table border=\"1\" class=\"dataframe\">\n",
       "  <thead>\n",
       "    <tr style=\"text-align: right;\">\n",
       "      <th></th>\n",
       "      <th>location</th>\n",
       "      <th>bed</th>\n",
       "      <th>total_sqft</th>\n",
       "      <th>bath</th>\n",
       "      <th>price</th>\n",
       "      <th>bhk</th>\n",
       "      <th>price_per_sqft</th>\n",
       "    </tr>\n",
       "  </thead>\n",
       "  <tbody>\n",
       "    <tr>\n",
       "      <th>0</th>\n",
       "      <td>Manhattan</td>\n",
       "      <td>2</td>\n",
       "      <td>1400.0</td>\n",
       "      <td>2</td>\n",
       "      <td>315000.0</td>\n",
       "      <td>2</td>\n",
       "      <td>225.00</td>\n",
       "    </tr>\n",
       "    <tr>\n",
       "      <th>1</th>\n",
       "      <td>New York County</td>\n",
       "      <td>7</td>\n",
       "      <td>17545.0</td>\n",
       "      <td>10</td>\n",
       "      <td>195000000.0</td>\n",
       "      <td>7</td>\n",
       "      <td>11114.28</td>\n",
       "    </tr>\n",
       "    <tr>\n",
       "      <th>2</th>\n",
       "      <td>Richmond County</td>\n",
       "      <td>4</td>\n",
       "      <td>2015.0</td>\n",
       "      <td>2</td>\n",
       "      <td>260000.0</td>\n",
       "      <td>4</td>\n",
       "      <td>129.03</td>\n",
       "    </tr>\n",
       "    <tr>\n",
       "      <th>3</th>\n",
       "      <td>New York County</td>\n",
       "      <td>3</td>\n",
       "      <td>445.0</td>\n",
       "      <td>1</td>\n",
       "      <td>69000.0</td>\n",
       "      <td>3</td>\n",
       "      <td>155.06</td>\n",
       "    </tr>\n",
       "    <tr>\n",
       "      <th>4</th>\n",
       "      <td>New York County</td>\n",
       "      <td>7</td>\n",
       "      <td>14587.5</td>\n",
       "      <td>2</td>\n",
       "      <td>55000000.0</td>\n",
       "      <td>7</td>\n",
       "      <td>3770.35</td>\n",
       "    </tr>\n",
       "  </tbody>\n",
       "</table>\n",
       "</div>"
      ],
      "text/plain": [
       "          location bed  total_sqft  bath        price  bhk  price_per_sqft\n",
       "0        Manhattan   2      1400.0     2     315000.0    2          225.00\n",
       "1  New York County   7     17545.0    10  195000000.0    7        11114.28\n",
       "2  Richmond County   4      2015.0     2     260000.0    4          129.03\n",
       "3  New York County   3       445.0     1      69000.0    3          155.06\n",
       "4  New York County   7     14587.5     2   55000000.0    7         3770.35"
      ]
     },
     "execution_count": 52,
     "metadata": {},
     "output_type": "execute_result"
    }
   ],
   "source": [
    "df5.head()"
   ]
  },
  {
   "cell_type": "code",
   "execution_count": 54,
   "id": "c6e32c57-11be-48a3-941e-8c123f1071d9",
   "metadata": {},
   "outputs": [
    {
     "data": {
      "text/html": [
       "<div>\n",
       "<style scoped>\n",
       "    .dataframe tbody tr th:only-of-type {\n",
       "        vertical-align: middle;\n",
       "    }\n",
       "\n",
       "    .dataframe tbody tr th {\n",
       "        vertical-align: top;\n",
       "    }\n",
       "\n",
       "    .dataframe thead th {\n",
       "        text-align: right;\n",
       "    }\n",
       "</style>\n",
       "<table border=\"1\" class=\"dataframe\">\n",
       "  <thead>\n",
       "    <tr style=\"text-align: right;\">\n",
       "      <th></th>\n",
       "      <th>location</th>\n",
       "      <th>bed</th>\n",
       "      <th>total_sqft</th>\n",
       "      <th>bath</th>\n",
       "      <th>price</th>\n",
       "      <th>bhk</th>\n",
       "      <th>price_per_sqft</th>\n",
       "    </tr>\n",
       "  </thead>\n",
       "  <tbody>\n",
       "    <tr>\n",
       "      <th>3</th>\n",
       "      <td>New York County</td>\n",
       "      <td>3</td>\n",
       "      <td>445.0</td>\n",
       "      <td>1</td>\n",
       "      <td>69000.0</td>\n",
       "      <td>3</td>\n",
       "      <td>155.06</td>\n",
       "    </tr>\n",
       "    <tr>\n",
       "      <th>17</th>\n",
       "      <td>Brooklyn</td>\n",
       "      <td>3</td>\n",
       "      <td>325.0</td>\n",
       "      <td>1</td>\n",
       "      <td>199000.0</td>\n",
       "      <td>3</td>\n",
       "      <td>612.31</td>\n",
       "    </tr>\n",
       "    <tr>\n",
       "      <th>36</th>\n",
       "      <td>Staten Island</td>\n",
       "      <td>11</td>\n",
       "      <td>3156.0</td>\n",
       "      <td>4</td>\n",
       "      <td>1299888.0</td>\n",
       "      <td>11</td>\n",
       "      <td>411.88</td>\n",
       "    </tr>\n",
       "    <tr>\n",
       "      <th>71</th>\n",
       "      <td>Kings County</td>\n",
       "      <td>3</td>\n",
       "      <td>803.0</td>\n",
       "      <td>2</td>\n",
       "      <td>655000.0</td>\n",
       "      <td>3</td>\n",
       "      <td>815.69</td>\n",
       "    </tr>\n",
       "    <tr>\n",
       "      <th>73</th>\n",
       "      <td>Queens County</td>\n",
       "      <td>9</td>\n",
       "      <td>2350.0</td>\n",
       "      <td>2</td>\n",
       "      <td>2880000.0</td>\n",
       "      <td>9</td>\n",
       "      <td>1225.53</td>\n",
       "    </tr>\n",
       "  </tbody>\n",
       "</table>\n",
       "</div>"
      ],
      "text/plain": [
       "           location bed  total_sqft  bath      price  bhk  price_per_sqft\n",
       "3   New York County   3       445.0     1    69000.0    3          155.06\n",
       "17         Brooklyn   3       325.0     1   199000.0    3          612.31\n",
       "36    Staten Island  11      3156.0     4  1299888.0   11          411.88\n",
       "71     Kings County   3       803.0     2   655000.0    3          815.69\n",
       "73    Queens County   9      2350.0     2  2880000.0    9         1225.53"
      ]
     },
     "execution_count": 54,
     "metadata": {},
     "output_type": "execute_result"
    }
   ],
   "source": [
    "df5[df5.total_sqft/df5.bhk<300].head()"
   ]
  },
  {
   "cell_type": "code",
   "execution_count": 56,
   "id": "1db42158-4366-4f90-bfc6-36102651efdb",
   "metadata": {},
   "outputs": [
    {
     "data": {
      "text/plain": [
       "(4532, 7)"
      ]
     },
     "execution_count": 56,
     "metadata": {},
     "output_type": "execute_result"
    }
   ],
   "source": [
    "df6 = df5[~(df5.total_sqft/df5.bhk<300)]\n",
    "df6.shape"
   ]
  },
  {
   "cell_type": "code",
   "execution_count": 58,
   "id": "da2f756e-b840-4f3c-802b-3781b9694861",
   "metadata": {},
   "outputs": [
    {
     "data": {
      "text/plain": [
       "count      4532.000000\n",
       "mean        815.986756\n",
       "std        3371.494256\n",
       "min           1.140000\n",
       "25%         319.550000\n",
       "50%         477.730000\n",
       "75%         803.025000\n",
       "max      214748.360000\n",
       "Name: price_per_sqft, dtype: float64"
      ]
     },
     "execution_count": 58,
     "metadata": {},
     "output_type": "execute_result"
    }
   ],
   "source": [
    "df6.price_per_sqft.describe()"
   ]
  },
  {
   "cell_type": "code",
   "execution_count": 60,
   "id": "e229742b-f616-4757-82a1-aa7f6e9179db",
   "metadata": {},
   "outputs": [
    {
     "data": {
      "text/plain": [
       "(4019, 7)"
      ]
     },
     "execution_count": 60,
     "metadata": {},
     "output_type": "execute_result"
    }
   ],
   "source": [
    "def remove_pps_outliers(df):\n",
    "    df_out = pd.DataFrame()\n",
    "    for key, subdf in df.groupby('location'):\n",
    "        m = np.mean(subdf.price_per_sqft)\n",
    "        st = np.std(subdf.price_per_sqft)\n",
    "        reduced_df = subdf[(subdf.price_per_sqft>(m-st)) & (subdf.price_per_sqft<=(m+st))]\n",
    "        df_out = pd.concat([df_out,reduced_df],ignore_index=True)\n",
    "    return df_out\n",
    "df7 = remove_pps_outliers(df6)\n",
    "df7.shape"
   ]
  },
  {
   "cell_type": "code",
   "execution_count": 62,
   "id": "64378513-af8c-4b8c-ae66-56371b00b9b2",
   "metadata": {},
   "outputs": [
    {
     "data": {
      "image/png": "[encoded data removed]",
      "text/plain": [
       "<Figure size 1500x1000 with 1 Axes>"
      ]
     },
     "metadata": {},
     "output_type": "display_data"
    }
   ],
   "source": [
    "def plot_scatter_chart(df,location):\n",
    "    bhk2 = df[(df.location==location) & (df.bhk==2)]\n",
    "    bhk3 = df[(df.location==location) & (df.bhk==3)]\n",
    "    matplotlib.rcParams['figure.figsize'] = (15,10)\n",
    "    plt.scatter(bhk2.total_sqft,bhk2.price,color='blue',label='2 BHK', s=50)\n",
    "    plt.scatter(bhk3.total_sqft,bhk3.price,marker='+', color='green',label='3 BHK', s=50)\n",
    "    plt.xlabel(\"Total Square Feet Area\")\n",
    "    plt.ylabel(\"Price (USD)\")\n",
    "    plt.title(location)\n",
    "    plt.legend()\n",
    "    \n",
    "plot_scatter_chart(df7,\"Brooklyn\")\n",
    "plt.show()"
   ]
  },
  {
   "cell_type": "code",
   "execution_count": 63,
   "id": "eb8f9ca0-d771-4d28-9ef7-402a43d86f54",
   "metadata": {},
   "outputs": [
    {
     "data": {
      "text/plain": [
       "(2389, 7)"
      ]
     },
     "execution_count": 63,
     "metadata": {},
     "output_type": "execute_result"
    }
   ],
   "source": [
    "def remove_bhk_outliers(df):\n",
    "    exclude_indices = np.array([])\n",
    "    for location, location_df in df.groupby('location'):\n",
    "        bhk_stats = {}\n",
    "        for bhk, bhk_df in location_df.groupby('bhk'):\n",
    "            bhk_stats[bhk] = {\n",
    "                'mean': np.mean(bhk_df.price_per_sqft),\n",
    "                'std': np.std(bhk_df.price_per_sqft),\n",
    "                'count': bhk_df.shape[0]\n",
    "            }\n",
    "        for bhk, bhk_df in location_df.groupby('bhk'):\n",
    "            stats = bhk_stats.get(bhk-1)\n",
    "            if stats and stats['count']>5:\n",
    "                exclude_indices = np.append(exclude_indices, bhk_df[bhk_df.price_per_sqft<(stats['mean'])].index.values)\n",
    "    return df.drop(exclude_indices,axis='index')\n",
    "df8 = remove_bhk_outliers(df7)\n",
    "# df8 = df7.copy()\n",
    "df8.shape"
   ]
  },
  {
   "cell_type": "code",
   "execution_count": 64,
   "id": "e4632dd9-dbba-4d85-9fb5-62677e17c644",
   "metadata": {},
   "outputs": [
    {
     "data": {
      "image/png": "[encoded data removed]",
      "text/plain": [
       "<Figure size 2000x1000 with 1 Axes>"
      ]
     },
     "metadata": {},
     "output_type": "display_data"
    }
   ],
   "source": [
    "import matplotlib\n",
    "matplotlib.rcParams[\"figure.figsize\"] = (20,10)\n",
    "plt.hist(df8.price_per_sqft,rwidth=0.8)\n",
    "plt.xlabel(\"Price Per Square Feet\")\n",
    "plt.ylabel(\"Count\")\n",
    "plt.show()"
   ]
  },
  {
   "cell_type": "code",
   "execution_count": 65,
   "id": "b0ad6321-619d-42c0-a266-9410b33adc58",
   "metadata": {},
   "outputs": [
    {
     "data": {
      "text/plain": [
       "array([ 3,  2,  1,  6,  8,  4,  7,  5, 16, 50, 11,  9, 20, 10, 13, 43])"
      ]
     },
     "execution_count": 65,
     "metadata": {},
     "output_type": "execute_result"
    }
   ],
   "source": [
    "df8.bath.unique()"
   ]
  },
  {
   "cell_type": "code",
   "execution_count": 67,
   "id": "090b71b2-77ab-4b9e-8149-50c76160708c",
   "metadata": {},
   "outputs": [
    {
     "data": {
      "image/png": "[encoded data removed]",
      "text/plain": [
       "<Figure size 2000x1000 with 1 Axes>"
      ]
     },
     "metadata": {},
     "output_type": "display_data"
    }
   ],
   "source": [
    "plt.hist(df8.bath,rwidth=0.8)\n",
    "plt.xlabel(\"Number of bathrooms\")\n",
    "plt.ylabel(\"Count\")\n",
    "plt.show()"
   ]
  },
  {
   "cell_type": "code",
   "execution_count": 69,
   "id": "067374ca-5af6-4bc5-b41d-ce65aedd6c35",
   "metadata": {},
   "outputs": [
    {
     "data": {
      "text/html": [
       "<div>\n",
       "<style scoped>\n",
       "    .dataframe tbody tr th:only-of-type {\n",
       "        vertical-align: middle;\n",
       "    }\n",
       "\n",
       "    .dataframe tbody tr th {\n",
       "        vertical-align: top;\n",
       "    }\n",
       "\n",
       "    .dataframe thead th {\n",
       "        text-align: right;\n",
       "    }\n",
       "</style>\n",
       "<table border=\"1\" class=\"dataframe\">\n",
       "  <thead>\n",
       "    <tr style=\"text-align: right;\">\n",
       "      <th></th>\n",
       "      <th>location</th>\n",
       "      <th>bed</th>\n",
       "      <th>total_sqft</th>\n",
       "      <th>bath</th>\n",
       "      <th>price</th>\n",
       "      <th>bhk</th>\n",
       "      <th>price_per_sqft</th>\n",
       "    </tr>\n",
       "  </thead>\n",
       "  <tbody>\n",
       "    <tr>\n",
       "      <th>711</th>\n",
       "      <td>Kings County</td>\n",
       "      <td>3</td>\n",
       "      <td>2184.207862</td>\n",
       "      <td>7</td>\n",
       "      <td>2295000.0</td>\n",
       "      <td>3</td>\n",
       "      <td>1050.72</td>\n",
       "    </tr>\n",
       "    <tr>\n",
       "      <th>2189</th>\n",
       "      <td>New York County</td>\n",
       "      <td>10</td>\n",
       "      <td>8750.000000</td>\n",
       "      <td>13</td>\n",
       "      <td>29950000.0</td>\n",
       "      <td>10</td>\n",
       "      <td>3422.86</td>\n",
       "    </tr>\n",
       "    <tr>\n",
       "      <th>2221</th>\n",
       "      <td>New York County</td>\n",
       "      <td>3</td>\n",
       "      <td>6336.000000</td>\n",
       "      <td>6</td>\n",
       "      <td>8950000.0</td>\n",
       "      <td>3</td>\n",
       "      <td>1412.56</td>\n",
       "    </tr>\n",
       "    <tr>\n",
       "      <th>3397</th>\n",
       "      <td>Richmond County</td>\n",
       "      <td>8</td>\n",
       "      <td>33000.000000</td>\n",
       "      <td>16</td>\n",
       "      <td>16800000.0</td>\n",
       "      <td>8</td>\n",
       "      <td>509.09</td>\n",
       "    </tr>\n",
       "  </tbody>\n",
       "</table>\n",
       "</div>"
      ],
      "text/plain": [
       "             location bed    total_sqft  bath       price  bhk  price_per_sqft\n",
       "711      Kings County   3   2184.207862     7   2295000.0    3         1050.72\n",
       "2189  New York County  10   8750.000000    13  29950000.0   10         3422.86\n",
       "2221  New York County   3   6336.000000     6   8950000.0    3         1412.56\n",
       "3397  Richmond County   8  33000.000000    16  16800000.0    8          509.09"
      ]
     },
     "execution_count": 69,
     "metadata": {},
     "output_type": "execute_result"
    }
   ],
   "source": [
    "df8[df8.bath>df8.bhk+2]"
   ]
  },
  {
   "cell_type": "code",
   "execution_count": 70,
   "id": "382f1a1e-b436-44fe-98f8-d03aa34c8c24",
   "metadata": {},
   "outputs": [
    {
     "data": {
      "text/plain": [
       "(2372, 7)"
      ]
     },
     "execution_count": 70,
     "metadata": {},
     "output_type": "execute_result"
    }
   ],
   "source": [
    "df9 = df8[df8.bath<df8.bhk+2]\n",
    "df9.shape"
   ]
  },
  {
   "cell_type": "code",
   "execution_count": 73,
   "id": "a34eae4a-7e5c-4ac8-a421-9c35f7c4ad1d",
   "metadata": {},
   "outputs": [
    {
     "data": {
      "text/html": [
       "<div>\n",
       "<style scoped>\n",
       "    .dataframe tbody tr th:only-of-type {\n",
       "        vertical-align: middle;\n",
       "    }\n",
       "\n",
       "    .dataframe tbody tr th {\n",
       "        vertical-align: top;\n",
       "    }\n",
       "\n",
       "    .dataframe thead th {\n",
       "        text-align: right;\n",
       "    }\n",
       "</style>\n",
       "<table border=\"1\" class=\"dataframe\">\n",
       "  <thead>\n",
       "    <tr style=\"text-align: right;\">\n",
       "      <th></th>\n",
       "      <th>location</th>\n",
       "      <th>total_sqft</th>\n",
       "      <th>bath</th>\n",
       "      <th>price</th>\n",
       "      <th>bhk</th>\n",
       "    </tr>\n",
       "  </thead>\n",
       "  <tbody>\n",
       "    <tr>\n",
       "      <th>0</th>\n",
       "      <td>Bronx County</td>\n",
       "      <td>2837.000000</td>\n",
       "      <td>3</td>\n",
       "      <td>1100000.0</td>\n",
       "      <td>6</td>\n",
       "    </tr>\n",
       "    <tr>\n",
       "      <th>9</th>\n",
       "      <td>Bronx County</td>\n",
       "      <td>2184.207862</td>\n",
       "      <td>2</td>\n",
       "      <td>1249000.0</td>\n",
       "      <td>3</td>\n",
       "    </tr>\n",
       "    <tr>\n",
       "      <th>13</th>\n",
       "      <td>Bronx County</td>\n",
       "      <td>1638.000000</td>\n",
       "      <td>2</td>\n",
       "      <td>650000.0</td>\n",
       "      <td>3</td>\n",
       "    </tr>\n",
       "  </tbody>\n",
       "</table>\n",
       "</div>"
      ],
      "text/plain": [
       "        location   total_sqft  bath      price  bhk\n",
       "0   Bronx County  2837.000000     3  1100000.0    6\n",
       "9   Bronx County  2184.207862     2  1249000.0    3\n",
       "13  Bronx County  1638.000000     2   650000.0    3"
      ]
     },
     "execution_count": 73,
     "metadata": {},
     "output_type": "execute_result"
    }
   ],
   "source": [
    "df10 = df9.drop(['bed','price_per_sqft'],axis='columns')\n",
    "df10.head(3)"
   ]
  },
  {
   "cell_type": "code",
   "execution_count": 74,
   "id": "41eab2f8-92a3-4d1d-a478-8b5690aad8a4",
   "metadata": {},
   "outputs": [
    {
     "data": {
      "text/html": [
       "<div>\n",
       "<style scoped>\n",
       "    .dataframe tbody tr th:only-of-type {\n",
       "        vertical-align: middle;\n",
       "    }\n",
       "\n",
       "    .dataframe tbody tr th {\n",
       "        vertical-align: top;\n",
       "    }\n",
       "\n",
       "    .dataframe thead th {\n",
       "        text-align: right;\n",
       "    }\n",
       "</style>\n",
       "<table border=\"1\" class=\"dataframe\">\n",
       "  <thead>\n",
       "    <tr style=\"text-align: right;\">\n",
       "      <th></th>\n",
       "      <th>Bronx County</th>\n",
       "      <th>Brooklyn</th>\n",
       "      <th>Coney Island</th>\n",
       "      <th>Flushing</th>\n",
       "      <th>Kings County</th>\n",
       "      <th>Manhattan</th>\n",
       "      <th>New York</th>\n",
       "      <th>New York County</th>\n",
       "      <th>Queens</th>\n",
       "      <th>Queens County</th>\n",
       "      <th>Richmond County</th>\n",
       "      <th>Riverdale</th>\n",
       "      <th>Staten Island</th>\n",
       "      <th>The Bronx</th>\n",
       "    </tr>\n",
       "  </thead>\n",
       "  <tbody>\n",
       "    <tr>\n",
       "      <th>0</th>\n",
       "      <td>True</td>\n",
       "      <td>False</td>\n",
       "      <td>False</td>\n",
       "      <td>False</td>\n",
       "      <td>False</td>\n",
       "      <td>False</td>\n",
       "      <td>False</td>\n",
       "      <td>False</td>\n",
       "      <td>False</td>\n",
       "      <td>False</td>\n",
       "      <td>False</td>\n",
       "      <td>False</td>\n",
       "      <td>False</td>\n",
       "      <td>False</td>\n",
       "    </tr>\n",
       "    <tr>\n",
       "      <th>9</th>\n",
       "      <td>True</td>\n",
       "      <td>False</td>\n",
       "      <td>False</td>\n",
       "      <td>False</td>\n",
       "      <td>False</td>\n",
       "      <td>False</td>\n",
       "      <td>False</td>\n",
       "      <td>False</td>\n",
       "      <td>False</td>\n",
       "      <td>False</td>\n",
       "      <td>False</td>\n",
       "      <td>False</td>\n",
       "      <td>False</td>\n",
       "      <td>False</td>\n",
       "    </tr>\n",
       "    <tr>\n",
       "      <th>13</th>\n",
       "      <td>True</td>\n",
       "      <td>False</td>\n",
       "      <td>False</td>\n",
       "      <td>False</td>\n",
       "      <td>False</td>\n",
       "      <td>False</td>\n",
       "      <td>False</td>\n",
       "      <td>False</td>\n",
       "      <td>False</td>\n",
       "      <td>False</td>\n",
       "      <td>False</td>\n",
       "      <td>False</td>\n",
       "      <td>False</td>\n",
       "      <td>False</td>\n",
       "    </tr>\n",
       "    <tr>\n",
       "      <th>16</th>\n",
       "      <td>True</td>\n",
       "      <td>False</td>\n",
       "      <td>False</td>\n",
       "      <td>False</td>\n",
       "      <td>False</td>\n",
       "      <td>False</td>\n",
       "      <td>False</td>\n",
       "      <td>False</td>\n",
       "      <td>False</td>\n",
       "      <td>False</td>\n",
       "      <td>False</td>\n",
       "      <td>False</td>\n",
       "      <td>False</td>\n",
       "      <td>False</td>\n",
       "    </tr>\n",
       "    <tr>\n",
       "      <th>17</th>\n",
       "      <td>True</td>\n",
       "      <td>False</td>\n",
       "      <td>False</td>\n",
       "      <td>False</td>\n",
       "      <td>False</td>\n",
       "      <td>False</td>\n",
       "      <td>False</td>\n",
       "      <td>False</td>\n",
       "      <td>False</td>\n",
       "      <td>False</td>\n",
       "      <td>False</td>\n",
       "      <td>False</td>\n",
       "      <td>False</td>\n",
       "      <td>False</td>\n",
       "    </tr>\n",
       "    <tr>\n",
       "      <th>...</th>\n",
       "      <td>...</td>\n",
       "      <td>...</td>\n",
       "      <td>...</td>\n",
       "      <td>...</td>\n",
       "      <td>...</td>\n",
       "      <td>...</td>\n",
       "      <td>...</td>\n",
       "      <td>...</td>\n",
       "      <td>...</td>\n",
       "      <td>...</td>\n",
       "      <td>...</td>\n",
       "      <td>...</td>\n",
       "      <td>...</td>\n",
       "      <td>...</td>\n",
       "    </tr>\n",
       "    <tr>\n",
       "      <th>4011</th>\n",
       "      <td>False</td>\n",
       "      <td>False</td>\n",
       "      <td>False</td>\n",
       "      <td>False</td>\n",
       "      <td>False</td>\n",
       "      <td>False</td>\n",
       "      <td>False</td>\n",
       "      <td>False</td>\n",
       "      <td>False</td>\n",
       "      <td>False</td>\n",
       "      <td>False</td>\n",
       "      <td>False</td>\n",
       "      <td>False</td>\n",
       "      <td>True</td>\n",
       "    </tr>\n",
       "    <tr>\n",
       "      <th>4012</th>\n",
       "      <td>False</td>\n",
       "      <td>False</td>\n",
       "      <td>False</td>\n",
       "      <td>False</td>\n",
       "      <td>False</td>\n",
       "      <td>False</td>\n",
       "      <td>False</td>\n",
       "      <td>False</td>\n",
       "      <td>False</td>\n",
       "      <td>False</td>\n",
       "      <td>False</td>\n",
       "      <td>False</td>\n",
       "      <td>False</td>\n",
       "      <td>True</td>\n",
       "    </tr>\n",
       "    <tr>\n",
       "      <th>4013</th>\n",
       "      <td>False</td>\n",
       "      <td>False</td>\n",
       "      <td>False</td>\n",
       "      <td>False</td>\n",
       "      <td>False</td>\n",
       "      <td>False</td>\n",
       "      <td>False</td>\n",
       "      <td>False</td>\n",
       "      <td>False</td>\n",
       "      <td>False</td>\n",
       "      <td>False</td>\n",
       "      <td>False</td>\n",
       "      <td>False</td>\n",
       "      <td>True</td>\n",
       "    </tr>\n",
       "    <tr>\n",
       "      <th>4015</th>\n",
       "      <td>False</td>\n",
       "      <td>False</td>\n",
       "      <td>False</td>\n",
       "      <td>False</td>\n",
       "      <td>False</td>\n",
       "      <td>False</td>\n",
       "      <td>False</td>\n",
       "      <td>False</td>\n",
       "      <td>False</td>\n",
       "      <td>False</td>\n",
       "      <td>False</td>\n",
       "      <td>False</td>\n",
       "      <td>False</td>\n",
       "      <td>True</td>\n",
       "    </tr>\n",
       "    <tr>\n",
       "      <th>4018</th>\n",
       "      <td>False</td>\n",
       "      <td>False</td>\n",
       "      <td>False</td>\n",
       "      <td>False</td>\n",
       "      <td>False</td>\n",
       "      <td>False</td>\n",
       "      <td>False</td>\n",
       "      <td>False</td>\n",
       "      <td>False</td>\n",
       "      <td>False</td>\n",
       "      <td>False</td>\n",
       "      <td>False</td>\n",
       "      <td>False</td>\n",
       "      <td>True</td>\n",
       "    </tr>\n",
       "  </tbody>\n",
       "</table>\n",
       "<p>2372 rows × 14 columns</p>\n",
       "</div>"
      ],
      "text/plain": [
       "      Bronx County  Brooklyn  Coney Island  Flushing  Kings County  Manhattan  \\\n",
       "0             True     False         False     False         False      False   \n",
       "9             True     False         False     False         False      False   \n",
       "13            True     False         False     False         False      False   \n",
       "16            True     False         False     False         False      False   \n",
       "17            True     False         False     False         False      False   \n",
       "...            ...       ...           ...       ...           ...        ...   \n",
       "4011         False     False         False     False         False      False   \n",
       "4012         False     False         False     False         False      False   \n",
       "4013         False     False         False     False         False      False   \n",
       "4015         False     False         False     False         False      False   \n",
       "4018         False     False         False     False         False      False   \n",
       "\n",
       "      New York  New York County  Queens  Queens County  Richmond County  \\\n",
       "0        False            False   False          False            False   \n",
       "9        False            False   False          False            False   \n",
       "13       False            False   False          False            False   \n",
       "16       False            False   False          False            False   \n",
       "17       False            False   False          False            False   \n",
       "...        ...              ...     ...            ...              ...   \n",
       "4011     False            False   False          False            False   \n",
       "4012     False            False   False          False            False   \n",
       "4013     False            False   False          False            False   \n",
       "4015     False            False   False          False            False   \n",
       "4018     False            False   False          False            False   \n",
       "\n",
       "      Riverdale  Staten Island  The Bronx  \n",
       "0         False          False      False  \n",
       "9         False          False      False  \n",
       "13        False          False      False  \n",
       "16        False          False      False  \n",
       "17        False          False      False  \n",
       "...         ...            ...        ...  \n",
       "4011      False          False       True  \n",
       "4012      False          False       True  \n",
       "4013      False          False       True  \n",
       "4015      False          False       True  \n",
       "4018      False          False       True  \n",
       "\n",
       "[2372 rows x 14 columns]"
      ]
     },
     "execution_count": 74,
     "metadata": {},
     "output_type": "execute_result"
    }
   ],
   "source": [
    "dummies = pd.get_dummies(df10.location)\n",
    "dummies"
   ]
  },
  {
   "cell_type": "code",
   "execution_count": 76,
   "id": "cb00185d-3c8e-407e-bb67-e4e1c6e87695",
   "metadata": {},
   "outputs": [
    {
     "data": {
      "text/html": [
       "<div>\n",
       "<style scoped>\n",
       "    .dataframe tbody tr th:only-of-type {\n",
       "        vertical-align: middle;\n",
       "    }\n",
       "\n",
       "    .dataframe tbody tr th {\n",
       "        vertical-align: top;\n",
       "    }\n",
       "\n",
       "    .dataframe thead th {\n",
       "        text-align: right;\n",
       "    }\n",
       "</style>\n",
       "<table border=\"1\" class=\"dataframe\">\n",
       "  <thead>\n",
       "    <tr style=\"text-align: right;\">\n",
       "      <th></th>\n",
       "      <th>location</th>\n",
       "      <th>total_sqft</th>\n",
       "      <th>bath</th>\n",
       "      <th>price</th>\n",
       "      <th>bhk</th>\n",
       "      <th>Bronx County</th>\n",
       "      <th>Brooklyn</th>\n",
       "      <th>Coney Island</th>\n",
       "      <th>Flushing</th>\n",
       "      <th>Kings County</th>\n",
       "      <th>Manhattan</th>\n",
       "      <th>New York</th>\n",
       "      <th>New York County</th>\n",
       "      <th>Queens</th>\n",
       "      <th>Queens County</th>\n",
       "      <th>Richmond County</th>\n",
       "      <th>Riverdale</th>\n",
       "      <th>Staten Island</th>\n",
       "      <th>The Bronx</th>\n",
       "    </tr>\n",
       "  </thead>\n",
       "  <tbody>\n",
       "    <tr>\n",
       "      <th>0</th>\n",
       "      <td>Bronx County</td>\n",
       "      <td>2837.000000</td>\n",
       "      <td>3</td>\n",
       "      <td>1100000.0</td>\n",
       "      <td>6</td>\n",
       "      <td>True</td>\n",
       "      <td>False</td>\n",
       "      <td>False</td>\n",
       "      <td>False</td>\n",
       "      <td>False</td>\n",
       "      <td>False</td>\n",
       "      <td>False</td>\n",
       "      <td>False</td>\n",
       "      <td>False</td>\n",
       "      <td>False</td>\n",
       "      <td>False</td>\n",
       "      <td>False</td>\n",
       "      <td>False</td>\n",
       "      <td>False</td>\n",
       "    </tr>\n",
       "    <tr>\n",
       "      <th>9</th>\n",
       "      <td>Bronx County</td>\n",
       "      <td>2184.207862</td>\n",
       "      <td>2</td>\n",
       "      <td>1249000.0</td>\n",
       "      <td>3</td>\n",
       "      <td>True</td>\n",
       "      <td>False</td>\n",
       "      <td>False</td>\n",
       "      <td>False</td>\n",
       "      <td>False</td>\n",
       "      <td>False</td>\n",
       "      <td>False</td>\n",
       "      <td>False</td>\n",
       "      <td>False</td>\n",
       "      <td>False</td>\n",
       "      <td>False</td>\n",
       "      <td>False</td>\n",
       "      <td>False</td>\n",
       "      <td>False</td>\n",
       "    </tr>\n",
       "    <tr>\n",
       "      <th>13</th>\n",
       "      <td>Bronx County</td>\n",
       "      <td>1638.000000</td>\n",
       "      <td>2</td>\n",
       "      <td>650000.0</td>\n",
       "      <td>3</td>\n",
       "      <td>True</td>\n",
       "      <td>False</td>\n",
       "      <td>False</td>\n",
       "      <td>False</td>\n",
       "      <td>False</td>\n",
       "      <td>False</td>\n",
       "      <td>False</td>\n",
       "      <td>False</td>\n",
       "      <td>False</td>\n",
       "      <td>False</td>\n",
       "      <td>False</td>\n",
       "      <td>False</td>\n",
       "      <td>False</td>\n",
       "      <td>False</td>\n",
       "    </tr>\n",
       "    <tr>\n",
       "      <th>16</th>\n",
       "      <td>Bronx County</td>\n",
       "      <td>2184.207862</td>\n",
       "      <td>2</td>\n",
       "      <td>1300000.0</td>\n",
       "      <td>3</td>\n",
       "      <td>True</td>\n",
       "      <td>False</td>\n",
       "      <td>False</td>\n",
       "      <td>False</td>\n",
       "      <td>False</td>\n",
       "      <td>False</td>\n",
       "      <td>False</td>\n",
       "      <td>False</td>\n",
       "      <td>False</td>\n",
       "      <td>False</td>\n",
       "      <td>False</td>\n",
       "      <td>False</td>\n",
       "      <td>False</td>\n",
       "      <td>False</td>\n",
       "    </tr>\n",
       "    <tr>\n",
       "      <th>17</th>\n",
       "      <td>Bronx County</td>\n",
       "      <td>2184.207862</td>\n",
       "      <td>2</td>\n",
       "      <td>1300000.0</td>\n",
       "      <td>3</td>\n",
       "      <td>True</td>\n",
       "      <td>False</td>\n",
       "      <td>False</td>\n",
       "      <td>False</td>\n",
       "      <td>False</td>\n",
       "      <td>False</td>\n",
       "      <td>False</td>\n",
       "      <td>False</td>\n",
       "      <td>False</td>\n",
       "      <td>False</td>\n",
       "      <td>False</td>\n",
       "      <td>False</td>\n",
       "      <td>False</td>\n",
       "      <td>False</td>\n",
       "    </tr>\n",
       "  </tbody>\n",
       "</table>\n",
       "</div>"
      ],
      "text/plain": [
       "        location   total_sqft  bath      price  bhk  Bronx County  Brooklyn  \\\n",
       "0   Bronx County  2837.000000     3  1100000.0    6          True     False   \n",
       "9   Bronx County  2184.207862     2  1249000.0    3          True     False   \n",
       "13  Bronx County  1638.000000     2   650000.0    3          True     False   \n",
       "16  Bronx County  2184.207862     2  1300000.0    3          True     False   \n",
       "17  Bronx County  2184.207862     2  1300000.0    3          True     False   \n",
       "\n",
       "    Coney Island  Flushing  Kings County  Manhattan  New York  \\\n",
       "0          False     False         False      False     False   \n",
       "9          False     False         False      False     False   \n",
       "13         False     False         False      False     False   \n",
       "16         False     False         False      False     False   \n",
       "17         False     False         False      False     False   \n",
       "\n",
       "    New York County  Queens  Queens County  Richmond County  Riverdale  \\\n",
       "0             False   False          False            False      False   \n",
       "9             False   False          False            False      False   \n",
       "13            False   False          False            False      False   \n",
       "16            False   False          False            False      False   \n",
       "17            False   False          False            False      False   \n",
       "\n",
       "    Staten Island  The Bronx  \n",
       "0           False      False  \n",
       "9           False      False  \n",
       "13          False      False  \n",
       "16          False      False  \n",
       "17          False      False  "
      ]
     },
     "execution_count": 76,
     "metadata": {},
     "output_type": "execute_result"
    }
   ],
   "source": [
    "df11 = pd.concat([df10,dummies],axis='columns')\n",
    "df11.head()"
   ]
  },
  {
   "cell_type": "code",
   "execution_count": 80,
   "id": "2ea16860-2e2e-4ec2-a897-aafd9c8d3a10",
   "metadata": {},
   "outputs": [
    {
     "data": {
      "text/html": [
       "<div>\n",
       "<style scoped>\n",
       "    .dataframe tbody tr th:only-of-type {\n",
       "        vertical-align: middle;\n",
       "    }\n",
       "\n",
       "    .dataframe tbody tr th {\n",
       "        vertical-align: top;\n",
       "    }\n",
       "\n",
       "    .dataframe thead th {\n",
       "        text-align: right;\n",
       "    }\n",
       "</style>\n",
       "<table border=\"1\" class=\"dataframe\">\n",
       "  <thead>\n",
       "    <tr style=\"text-align: right;\">\n",
       "      <th></th>\n",
       "      <th>total_sqft</th>\n",
       "      <th>bath</th>\n",
       "      <th>price</th>\n",
       "      <th>bhk</th>\n",
       "      <th>Bronx County</th>\n",
       "      <th>Brooklyn</th>\n",
       "      <th>Coney Island</th>\n",
       "      <th>Flushing</th>\n",
       "      <th>Kings County</th>\n",
       "      <th>Manhattan</th>\n",
       "      <th>New York</th>\n",
       "      <th>New York County</th>\n",
       "      <th>Queens</th>\n",
       "      <th>Queens County</th>\n",
       "      <th>Richmond County</th>\n",
       "      <th>Riverdale</th>\n",
       "      <th>Staten Island</th>\n",
       "      <th>The Bronx</th>\n",
       "    </tr>\n",
       "  </thead>\n",
       "  <tbody>\n",
       "    <tr>\n",
       "      <th>0</th>\n",
       "      <td>2837.000000</td>\n",
       "      <td>3</td>\n",
       "      <td>1100000.0</td>\n",
       "      <td>6</td>\n",
       "      <td>True</td>\n",
       "      <td>False</td>\n",
       "      <td>False</td>\n",
       "      <td>False</td>\n",
       "      <td>False</td>\n",
       "      <td>False</td>\n",
       "      <td>False</td>\n",
       "      <td>False</td>\n",
       "      <td>False</td>\n",
       "      <td>False</td>\n",
       "      <td>False</td>\n",
       "      <td>False</td>\n",
       "      <td>False</td>\n",
       "      <td>False</td>\n",
       "    </tr>\n",
       "    <tr>\n",
       "      <th>9</th>\n",
       "      <td>2184.207862</td>\n",
       "      <td>2</td>\n",
       "      <td>1249000.0</td>\n",
       "      <td>3</td>\n",
       "      <td>True</td>\n",
       "      <td>False</td>\n",
       "      <td>False</td>\n",
       "      <td>False</td>\n",
       "      <td>False</td>\n",
       "      <td>False</td>\n",
       "      <td>False</td>\n",
       "      <td>False</td>\n",
       "      <td>False</td>\n",
       "      <td>False</td>\n",
       "      <td>False</td>\n",
       "      <td>False</td>\n",
       "      <td>False</td>\n",
       "      <td>False</td>\n",
       "    </tr>\n",
       "    <tr>\n",
       "      <th>13</th>\n",
       "      <td>1638.000000</td>\n",
       "      <td>2</td>\n",
       "      <td>650000.0</td>\n",
       "      <td>3</td>\n",
       "      <td>True</td>\n",
       "      <td>False</td>\n",
       "      <td>False</td>\n",
       "      <td>False</td>\n",
       "      <td>False</td>\n",
       "      <td>False</td>\n",
       "      <td>False</td>\n",
       "      <td>False</td>\n",
       "      <td>False</td>\n",
       "      <td>False</td>\n",
       "      <td>False</td>\n",
       "      <td>False</td>\n",
       "      <td>False</td>\n",
       "      <td>False</td>\n",
       "    </tr>\n",
       "    <tr>\n",
       "      <th>16</th>\n",
       "      <td>2184.207862</td>\n",
       "      <td>2</td>\n",
       "      <td>1300000.0</td>\n",
       "      <td>3</td>\n",
       "      <td>True</td>\n",
       "      <td>False</td>\n",
       "      <td>False</td>\n",
       "      <td>False</td>\n",
       "      <td>False</td>\n",
       "      <td>False</td>\n",
       "      <td>False</td>\n",
       "      <td>False</td>\n",
       "      <td>False</td>\n",
       "      <td>False</td>\n",
       "      <td>False</td>\n",
       "      <td>False</td>\n",
       "      <td>False</td>\n",
       "      <td>False</td>\n",
       "    </tr>\n",
       "    <tr>\n",
       "      <th>17</th>\n",
       "      <td>2184.207862</td>\n",
       "      <td>2</td>\n",
       "      <td>1300000.0</td>\n",
       "      <td>3</td>\n",
       "      <td>True</td>\n",
       "      <td>False</td>\n",
       "      <td>False</td>\n",
       "      <td>False</td>\n",
       "      <td>False</td>\n",
       "      <td>False</td>\n",
       "      <td>False</td>\n",
       "      <td>False</td>\n",
       "      <td>False</td>\n",
       "      <td>False</td>\n",
       "      <td>False</td>\n",
       "      <td>False</td>\n",
       "      <td>False</td>\n",
       "      <td>False</td>\n",
       "    </tr>\n",
       "  </tbody>\n",
       "</table>\n",
       "</div>"
      ],
      "text/plain": [
       "     total_sqft  bath      price  bhk  Bronx County  Brooklyn  Coney Island  \\\n",
       "0   2837.000000     3  1100000.0    6          True     False         False   \n",
       "9   2184.207862     2  1249000.0    3          True     False         False   \n",
       "13  1638.000000     2   650000.0    3          True     False         False   \n",
       "16  2184.207862     2  1300000.0    3          True     False         False   \n",
       "17  2184.207862     2  1300000.0    3          True     False         False   \n",
       "\n",
       "    Flushing  Kings County  Manhattan  New York  New York County  Queens  \\\n",
       "0      False         False      False     False            False   False   \n",
       "9      False         False      False     False            False   False   \n",
       "13     False         False      False     False            False   False   \n",
       "16     False         False      False     False            False   False   \n",
       "17     False         False      False     False            False   False   \n",
       "\n",
       "    Queens County  Richmond County  Riverdale  Staten Island  The Bronx  \n",
       "0           False            False      False          False      False  \n",
       "9           False            False      False          False      False  \n",
       "13          False            False      False          False      False  \n",
       "16          False            False      False          False      False  \n",
       "17          False            False      False          False      False  "
      ]
     },
     "execution_count": 80,
     "metadata": {},
     "output_type": "execute_result"
    }
   ],
   "source": [
    "df12 = df11.drop('location',axis='columns')\n",
    "df12.head()"
   ]
  },
  {
   "cell_type": "code",
   "execution_count": 83,
   "id": "e547fb3d-8764-46c5-8d24-fb4d2f9ef792",
   "metadata": {},
   "outputs": [
    {
     "data": {
      "text/plain": [
       "(2372, 18)"
      ]
     },
     "execution_count": 83,
     "metadata": {},
     "output_type": "execute_result"
    }
   ],
   "source": [
    "df12.shape"
   ]
  },
  {
   "cell_type": "code",
   "execution_count": 85,
   "id": "7a0bcd9c-a365-4502-820a-38ae85fde27a",
   "metadata": {},
   "outputs": [
    {
     "data": {
      "text/html": [
       "<div>\n",
       "<style scoped>\n",
       "    .dataframe tbody tr th:only-of-type {\n",
       "        vertical-align: middle;\n",
       "    }\n",
       "\n",
       "    .dataframe tbody tr th {\n",
       "        vertical-align: top;\n",
       "    }\n",
       "\n",
       "    .dataframe thead th {\n",
       "        text-align: right;\n",
       "    }\n",
       "</style>\n",
       "<table border=\"1\" class=\"dataframe\">\n",
       "  <thead>\n",
       "    <tr style=\"text-align: right;\">\n",
       "      <th></th>\n",
       "      <th>total_sqft</th>\n",
       "      <th>bath</th>\n",
       "      <th>bhk</th>\n",
       "      <th>Bronx County</th>\n",
       "      <th>Brooklyn</th>\n",
       "      <th>Coney Island</th>\n",
       "      <th>Flushing</th>\n",
       "      <th>Kings County</th>\n",
       "      <th>Manhattan</th>\n",
       "      <th>New York</th>\n",
       "      <th>New York County</th>\n",
       "      <th>Queens</th>\n",
       "      <th>Queens County</th>\n",
       "      <th>Richmond County</th>\n",
       "      <th>Riverdale</th>\n",
       "      <th>Staten Island</th>\n",
       "      <th>The Bronx</th>\n",
       "    </tr>\n",
       "  </thead>\n",
       "  <tbody>\n",
       "    <tr>\n",
       "      <th>0</th>\n",
       "      <td>2837.000000</td>\n",
       "      <td>3</td>\n",
       "      <td>6</td>\n",
       "      <td>True</td>\n",
       "      <td>False</td>\n",
       "      <td>False</td>\n",
       "      <td>False</td>\n",
       "      <td>False</td>\n",
       "      <td>False</td>\n",
       "      <td>False</td>\n",
       "      <td>False</td>\n",
       "      <td>False</td>\n",
       "      <td>False</td>\n",
       "      <td>False</td>\n",
       "      <td>False</td>\n",
       "      <td>False</td>\n",
       "      <td>False</td>\n",
       "    </tr>\n",
       "    <tr>\n",
       "      <th>9</th>\n",
       "      <td>2184.207862</td>\n",
       "      <td>2</td>\n",
       "      <td>3</td>\n",
       "      <td>True</td>\n",
       "      <td>False</td>\n",
       "      <td>False</td>\n",
       "      <td>False</td>\n",
       "      <td>False</td>\n",
       "      <td>False</td>\n",
       "      <td>False</td>\n",
       "      <td>False</td>\n",
       "      <td>False</td>\n",
       "      <td>False</td>\n",
       "      <td>False</td>\n",
       "      <td>False</td>\n",
       "      <td>False</td>\n",
       "      <td>False</td>\n",
       "    </tr>\n",
       "    <tr>\n",
       "      <th>13</th>\n",
       "      <td>1638.000000</td>\n",
       "      <td>2</td>\n",
       "      <td>3</td>\n",
       "      <td>True</td>\n",
       "      <td>False</td>\n",
       "      <td>False</td>\n",
       "      <td>False</td>\n",
       "      <td>False</td>\n",
       "      <td>False</td>\n",
       "      <td>False</td>\n",
       "      <td>False</td>\n",
       "      <td>False</td>\n",
       "      <td>False</td>\n",
       "      <td>False</td>\n",
       "      <td>False</td>\n",
       "      <td>False</td>\n",
       "      <td>False</td>\n",
       "    </tr>\n",
       "    <tr>\n",
       "      <th>16</th>\n",
       "      <td>2184.207862</td>\n",
       "      <td>2</td>\n",
       "      <td>3</td>\n",
       "      <td>True</td>\n",
       "      <td>False</td>\n",
       "      <td>False</td>\n",
       "      <td>False</td>\n",
       "      <td>False</td>\n",
       "      <td>False</td>\n",
       "      <td>False</td>\n",
       "      <td>False</td>\n",
       "      <td>False</td>\n",
       "      <td>False</td>\n",
       "      <td>False</td>\n",
       "      <td>False</td>\n",
       "      <td>False</td>\n",
       "      <td>False</td>\n",
       "    </tr>\n",
       "    <tr>\n",
       "      <th>17</th>\n",
       "      <td>2184.207862</td>\n",
       "      <td>2</td>\n",
       "      <td>3</td>\n",
       "      <td>True</td>\n",
       "      <td>False</td>\n",
       "      <td>False</td>\n",
       "      <td>False</td>\n",
       "      <td>False</td>\n",
       "      <td>False</td>\n",
       "      <td>False</td>\n",
       "      <td>False</td>\n",
       "      <td>False</td>\n",
       "      <td>False</td>\n",
       "      <td>False</td>\n",
       "      <td>False</td>\n",
       "      <td>False</td>\n",
       "      <td>False</td>\n",
       "    </tr>\n",
       "  </tbody>\n",
       "</table>\n",
       "</div>"
      ],
      "text/plain": [
       "     total_sqft  bath  bhk  Bronx County  Brooklyn  Coney Island  Flushing  \\\n",
       "0   2837.000000     3    6          True     False         False     False   \n",
       "9   2184.207862     2    3          True     False         False     False   \n",
       "13  1638.000000     2    3          True     False         False     False   \n",
       "16  2184.207862     2    3          True     False         False     False   \n",
       "17  2184.207862     2    3          True     False         False     False   \n",
       "\n",
       "    Kings County  Manhattan  New York  New York County  Queens  Queens County  \\\n",
       "0          False      False     False            False   False          False   \n",
       "9          False      False     False            False   False          False   \n",
       "13         False      False     False            False   False          False   \n",
       "16         False      False     False            False   False          False   \n",
       "17         False      False     False            False   False          False   \n",
       "\n",
       "    Richmond County  Riverdale  Staten Island  The Bronx  \n",
       "0             False      False          False      False  \n",
       "9             False      False          False      False  \n",
       "13            False      False          False      False  \n",
       "16            False      False          False      False  \n",
       "17            False      False          False      False  "
      ]
     },
     "execution_count": 85,
     "metadata": {},
     "output_type": "execute_result"
    }
   ],
   "source": [
    "X = df12.drop(['price'],axis='columns')\n",
    "X.head()"
   ]
  },
  {
   "cell_type": "code",
   "execution_count": 87,
   "id": "9275b41b-2305-4d5d-8f78-19a79831d48f",
   "metadata": {},
   "outputs": [
    {
     "data": {
      "text/plain": [
       "(2372, 17)"
      ]
     },
     "execution_count": 87,
     "metadata": {},
     "output_type": "execute_result"
    }
   ],
   "source": [
    "X.shape"
   ]
  },
  {
   "cell_type": "code",
   "execution_count": 90,
   "id": "8359f121-36c7-463b-a499-fdb7d6ebe23b",
   "metadata": {},
   "outputs": [
    {
     "data": {
      "text/plain": [
       "0     1100000.0\n",
       "9     1249000.0\n",
       "13     650000.0\n",
       "16    1300000.0\n",
       "17    1300000.0\n",
       "Name: price, dtype: float64"
      ]
     },
     "execution_count": 90,
     "metadata": {},
     "output_type": "execute_result"
    }
   ],
   "source": [
    "y = df12.price\n",
    "y.head()"
   ]
  },
  {
   "cell_type": "code",
   "execution_count": 92,
   "id": "bdde2ecf-941e-4961-8d86-dc81b58c970f",
   "metadata": {},
   "outputs": [
    {
     "data": {
      "text/plain": [
       "2372"
      ]
     },
     "execution_count": 92,
     "metadata": {},
     "output_type": "execute_result"
    }
   ],
   "source": [
    "len(y)"
   ]
  },
  {
   "cell_type": "code",
   "execution_count": 94,
   "id": "21dc5c92-3b22-423f-bf6d-2d5beda8ccea",
   "metadata": {},
   "outputs": [],
   "source": [
    "from sklearn.model_selection import train_test_split\n",
    "X_train, X_test, y_train, y_test = train_test_split(X,y,test_size=0.2,random_state=10)"
   ]
  },
  {
   "cell_type": "code",
   "execution_count": 95,
   "id": "4e85c404-8ebc-4638-8ed1-4a2e49cf7804",
   "metadata": {},
   "outputs": [
    {
     "data": {
      "text/plain": [
       "0.2005962248229506"
      ]
     },
     "execution_count": 95,
     "metadata": {},
     "output_type": "execute_result"
    }
   ],
   "source": [
    "#Linear Regression\n",
    "from sklearn.linear_model import LinearRegression\n",
    "lr_clf = LinearRegression()\n",
    "lr_clf.fit(X_train,y_train)\n",
    "lr_clf.score(X_test,y_test)"
   ]
  },
  {
   "cell_type": "code",
   "execution_count": 96,
   "id": "b9860098-a1b5-4480-baea-935aecb1bf36",
   "metadata": {},
   "outputs": [
    {
     "name": "stdout",
     "output_type": "stream",
     "text": [
      "Decision Tree - R^2: 0.7320250209194866, MSE: 1124288392893.4946\n"
     ]
    }
   ],
   "source": [
    "#Decision Tree Regression\n",
    "from sklearn.tree import DecisionTreeRegressor\n",
    "from sklearn.metrics import mean_squared_error\n",
    "\n",
    "# Initialize and train the model\n",
    "dt_reg = DecisionTreeRegressor(random_state=10)\n",
    "dt_reg.fit(X_train, y_train)\n",
    "\n",
    "# Predict and evaluate\n",
    "y_pred_dt = dt_reg.predict(X_test)\n",
    "dt_r2 = dt_reg.score(X_test, y_test)  # R^2 Score\n",
    "dt_mse = mean_squared_error(y_test, y_pred_dt)  # Mean Squared Error\n",
    "\n",
    "print(f\"Decision Tree - R^2: {dt_r2}, MSE: {dt_mse}\")"
   ]
  },
  {
   "cell_type": "code",
   "execution_count": 97,
   "id": "10d743a6-c8e1-4bae-8007-e9eb779441fb",
   "metadata": {},
   "outputs": [
    {
     "name": "stdout",
     "output_type": "stream",
     "text": [
      "Random Forest - R^2: 0.8266829601530947, MSE: 727151232025.9929\n"
     ]
    }
   ],
   "source": [
    "#Random Forest Regression\n",
    "from sklearn.ensemble import RandomForestRegressor\n",
    "\n",
    "# Initialize and train the model\n",
    "rf_reg = RandomForestRegressor(n_estimators=100, random_state=10)\n",
    "rf_reg.fit(X_train, y_train)\n",
    "\n",
    "# Predict and evaluate\n",
    "y_pred_rf = rf_reg.predict(X_test)\n",
    "rf_r2 = rf_reg.score(X_test, y_test)  # R^2 Score\n",
    "rf_mse = mean_squared_error(y_test, y_pred_rf)  # Mean Squared Error\n",
    "\n",
    "print(f\"Random Forest - R^2: {rf_r2}, MSE: {rf_mse}\")"
   ]
  },
  {
   "cell_type": "code",
   "execution_count": 98,
   "id": "9854ca26-2f86-4c42-b30e-1e5f151eef8a",
   "metadata": {},
   "outputs": [
    {
     "name": "stdout",
     "output_type": "stream",
     "text": [
      "Gradient Boosting - R^2: 0.8476402814434192, MSE: 639224839966.1865\n"
     ]
    }
   ],
   "source": [
    "#Gradient Boosting Regression - Best for this model with the highest score and the lowest MSE\n",
    "from sklearn.ensemble import GradientBoostingRegressor\n",
    "\n",
    "# Initialize and train the model\n",
    "gb_reg = GradientBoostingRegressor(random_state=10)\n",
    "gb_reg.fit(X_train, y_train)\n",
    "\n",
    "# Predict and evaluate\n",
    "y_pred_gb = gb_reg.predict(X_test)\n",
    "gb_r2 = gb_reg.score(X_test, y_test)  # R^2 Score\n",
    "gb_mse = mean_squared_error(y_test, y_pred_gb)  # Mean Squared Error\n",
    "\n",
    "print(f\"Gradient Boosting - R^2: {gb_r2}, MSE: {gb_mse}\")"
   ]
  },
  {
   "cell_type": "code",
   "execution_count": 99,
   "id": "424a12a4-b528-48ba-b3a4-0450299a4eeb",
   "metadata": {},
   "outputs": [
    {
     "data": {
      "text/plain": [
       "array([0.914437  , 0.91104721, 0.88279398, 0.81204358, 0.87217881])"
      ]
     },
     "execution_count": 99,
     "metadata": {},
     "output_type": "execute_result"
    }
   ],
   "source": [
    "#K Fold cross validation\n",
    "from sklearn.model_selection import ShuffleSplit\n",
    "from sklearn.model_selection import cross_val_score\n",
    "\n",
    "cv = ShuffleSplit(n_splits=5, test_size=0.2, random_state=0)\n",
    "\n",
    "cross_val_score(GradientBoostingRegressor(), X, y, cv=cv)"
   ]
  },
  {
   "cell_type": "code",
   "execution_count": 100,
   "id": "f6b19c9f-18c7-4887-94e9-715aebd9ab50",
   "metadata": {},
   "outputs": [],
   "source": [
    "import pandas as pd\n",
    "\n",
    "def predict_price(location, total_sqft, bath, bhk):\n",
    "    # Create a dictionary to initialize the DataFrame\n",
    "    feature_dict = {col: 0 for col in X.columns}  # Initialize all columns to 0\n",
    "    feature_dict['total_sqft'] = total_sqft\n",
    "    feature_dict['bath'] = bath\n",
    "    feature_dict['bhk'] = bhk\n",
    "\n",
    "    # Handle location encoding\n",
    "    if location in X.columns:\n",
    "        feature_dict[location] = 1\n",
    "\n",
    "    # Convert to DataFrame\n",
    "    input_df = pd.DataFrame([feature_dict])\n",
    "\n",
    "    # Predict using the trained model\n",
    "    return gb_reg.predict(input_df)[0]"
   ]
  },
  {
   "cell_type": "markdown",
   "id": "2d47c2f4-f71d-45a1-b469-71cf3de32bc5",
   "metadata": {},
   "source": [
    "<span style=\"font-size: 24px; font-weight: bold;\">PREDICTION:-</span>"
   ]
  },
  {
   "cell_type": "code",
   "execution_count": 107,
   "id": "274b0f06-e64f-4c9a-a89d-b5e254589e18",
   "metadata": {},
   "outputs": [
    {
     "name": "stdout",
     "output_type": "stream",
     "text": [
      "Predicted Price: 216247.9057688788\n"
     ]
    }
   ],
   "source": [
    "predicted_price = predict_price('The Bronx', 500, 1, 1)\n",
    "print(f\"Predicted Price: {predicted_price}\")"
   ]
  },
  {
   "cell_type": "code",
   "execution_count": null,
   "id": "8c13ce64-6663-4946-8998-db031b450346",
   "metadata": {},
   "outputs": [],
   "source": []
  }
 ],
 "metadata": {
  "kernelspec": {
   "display_name": "Python [conda env:base] *",
   "language": "python",
   "name": "conda-base-py"
  },
  "language_info": {
   "codemirror_mode": {
    "name": "ipython",
    "version": 3
   },
   "file_extension": ".py",
   "mimetype": "text/x-python",
   "name": "python",
   "nbconvert_exporter": "python",
   "pygments_lexer": "ipython3",
   "version": "3.12.7"
  }
 },
 "nbformat": 4,
 "nbformat_minor": 5
}
